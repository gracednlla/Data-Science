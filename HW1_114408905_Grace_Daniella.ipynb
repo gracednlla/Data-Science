{
  "nbformat": 4,
  "nbformat_minor": 0,
  "metadata": {
    "colab": {
      "provenance": []
    },
    "kernelspec": {
      "name": "python3",
      "display_name": "Python 3"
    },
    "language_info": {
      "name": "python"
    }
  },
  "cells": [
    {
      "cell_type": "code",
      "execution_count": null,
      "metadata": {
        "id": "cklxIR2OR51B"
      },
      "outputs": [],
      "source": [
        "What is a data frame in Python data analysis?\n",
        "\t•\tA DataFrame is a two-dimensional, tabular data structure in Python, most commonly used in the pandas library.\n",
        "\t•\tIt is similar to an Excel spreadsheet or SQL table: it has rows and columns, where each column can have a different data type (numbers, text, dates, etc.).\n",
        "\t•\tThink of it as the core object for storing and analyzing structured data.\n",
        "\n",
        "  Example:\n",
        "import pandas as pd\n",
        "\n",
        "data = {\n",
        "    \"Name\": [\"Alice\", \"Bob\", \"Charlie\"],\n",
        "    \"Age\": [24, 27, 22],\n",
        "    \"Score\": [85, 90, 88]\n",
        "}\n",
        "\n",
        "df = pd.DataFrame(data)\n",
        "print(df)\n",
        "\n",
        "Output:\n",
        "      Name  Age  Score\n",
        "0    Alice   24     85\n",
        "1      Bob   27     90\n",
        "2  Charlie   22     88\n",
        "\n",
        "How to load a dataset as a data frame?\n",
        "You can load datasets into a DataFrame using pandas. Common methods include:\n",
        "\n",
        "From a CSV file:\n",
        "import pandas as pd\n",
        "\n",
        "df = pd.read_csv(\"data.csv\")\n",
        "print(df.head())   # show first 5 rows\n",
        "\n",
        "From an Excel file:\n",
        "df = pd.read_excel(\"data.xlsx\")\n",
        "\n",
        "From a dictionary or list (manually created data)\n",
        "data = {\"Name\": [\"Alice\", \"Bob\"], \"Age\": [24, 27]}\n",
        "df = pd.DataFrame(data)\n",
        "\n",
        "What is summary statistics?\n",
        "\t•\tSummary statistics are descriptive measures that summarize and give insights into the main features of a dataset.\n",
        "\t•\tThey help you understand the distribution, central tendency, and variability of your data.\n",
        "\n",
        "Examples include:\n",
        "\t•\tMean (average)\n",
        "\t•\tMedian (middle value)\n",
        "\t•\tMode (most frequent value)\n",
        "\t•\tStandard deviation / Variance (spread of data)\n",
        "\t•\tMinimum, Maximum, Quartiles\n",
        "\n",
        "In pandas:\n",
        "print(df.describe())\n",
        "\n",
        "Output (example):\n",
        "             Age      Score\n",
        "count   3.000000   3.000000\n",
        "mean   24.333333  87.666667\n",
        "std     2.516611   2.516611\n",
        "min    22.000000  85.000000\n",
        "25%    23.000000  86.500000\n",
        "50%    24.000000  88.000000\n",
        "75%    25.500000  89.000000\n",
        "max    27.000000  90.000000"
      ]
    }
  ]
}